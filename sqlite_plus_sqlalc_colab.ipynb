{
  "nbformat": 4,
  "nbformat_minor": 0,
  "metadata": {
    "colab": {
      "name": "Untitled3.ipynb",
      "provenance": [],
      "toc_visible": true,
      "authorship_tag": "ABX9TyPrOU1xQ6IFzFTZ7oZy3bhU",
      "include_colab_link": true
    },
    "kernelspec": {
      "name": "python3",
      "display_name": "Python 3"
    }
  },
  "cells": [
    {
      "cell_type": "markdown",
      "metadata": {
        "id": "view-in-github",
        "colab_type": "text"
      },
      "source": [
        "<a href=\"https://colab.research.google.com/github/alxfed/colab/blob/master/sqlite_plus_sqlalc_colab.ipynb\" target=\"_parent\"><img src=\"https://colab.research.google.com/assets/colab-badge.svg\" alt=\"Open In Colab\"/></a>"
      ]
    },
    {
      "cell_type": "markdown",
      "metadata": {
        "id": "rD3F8eui_WBo",
        "colab_type": "text"
      },
      "source": [
        "# Creating a *.sqlite file"
      ]
    },
    {
      "cell_type": "markdown",
      "metadata": {
        "id": "sxyXyy_u_hb8",
        "colab_type": "text"
      },
      "source": [
        "You need to go a directory where you store your db files and to sqlite3 <database_name>.sqlite\n",
        "\n",
        "Then you upload this *.sqlite file into colab environment."
      ]
    },
    {
      "cell_type": "markdown",
      "metadata": {
        "id": "VcO5PQG9CVcj",
        "colab_type": "text"
      },
      "source": [
        "# Using sqlalchemy with it"
      ]
    },
    {
      "cell_type": "code",
      "metadata": {
        "id": "73obPuqt_b-n",
        "colab_type": "code",
        "colab": {}
      },
      "source": [
        "import pandas as pd\n",
        "data = pd.DataFrame({'a': [1, 2, 3],\n",
        "                     'b': [4, 5, 6],\n",
        "                     'c': [7, 8, 9]})"
      ],
      "execution_count": 0,
      "outputs": []
    },
    {
      "cell_type": "code",
      "metadata": {
        "id": "P1M8lOfE_gC5",
        "colab_type": "code",
        "colab": {}
      },
      "source": [
        "import sqlalchemy as sqlalc\n",
        "\n",
        "conn = sqlalc.create_engine('sqlite:///colab.sqlite')\n",
        "data.to_sql(name='first_table', con=conn)"
      ],
      "execution_count": 0,
      "outputs": []
    },
    {
      "cell_type": "code",
      "metadata": {
        "id": "5dffZ_oZCFTH",
        "colab_type": "code",
        "colab": {}
      },
      "source": [
        "shmata = pd.read_sql_table(table_name='first_table', con=conn)\n"
      ],
      "execution_count": 0,
      "outputs": []
    },
    {
      "cell_type": "code",
      "metadata": {
        "id": "pWVg2iwmFp9O",
        "colab_type": "code",
        "colab": {
          "base_uri": "https://localhost:8080/",
          "height": 142
        },
        "outputId": "fef2af12-cbf9-49eb-e4b0-cd7220683f62"
      },
      "source": [
        "shmata"
      ],
      "execution_count": 19,
      "outputs": [
        {
          "output_type": "execute_result",
          "data": {
            "text/html": [
              "<div>\n",
              "<style scoped>\n",
              "    .dataframe tbody tr th:only-of-type {\n",
              "        vertical-align: middle;\n",
              "    }\n",
              "\n",
              "    .dataframe tbody tr th {\n",
              "        vertical-align: top;\n",
              "    }\n",
              "\n",
              "    .dataframe thead th {\n",
              "        text-align: right;\n",
              "    }\n",
              "</style>\n",
              "<table border=\"1\" class=\"dataframe\">\n",
              "  <thead>\n",
              "    <tr style=\"text-align: right;\">\n",
              "      <th></th>\n",
              "      <th>index</th>\n",
              "      <th>a</th>\n",
              "      <th>b</th>\n",
              "      <th>c</th>\n",
              "    </tr>\n",
              "  </thead>\n",
              "  <tbody>\n",
              "    <tr>\n",
              "      <th>0</th>\n",
              "      <td>0</td>\n",
              "      <td>1</td>\n",
              "      <td>4</td>\n",
              "      <td>7</td>\n",
              "    </tr>\n",
              "    <tr>\n",
              "      <th>1</th>\n",
              "      <td>1</td>\n",
              "      <td>2</td>\n",
              "      <td>5</td>\n",
              "      <td>8</td>\n",
              "    </tr>\n",
              "    <tr>\n",
              "      <th>2</th>\n",
              "      <td>2</td>\n",
              "      <td>3</td>\n",
              "      <td>6</td>\n",
              "      <td>9</td>\n",
              "    </tr>\n",
              "  </tbody>\n",
              "</table>\n",
              "</div>"
            ],
            "text/plain": [
              "   index  a  b  c\n",
              "0      0  1  4  7\n",
              "1      1  2  5  8\n",
              "2      2  3  6  9"
            ]
          },
          "metadata": {
            "tags": []
          },
          "execution_count": 19
        }
      ]
    },
    {
      "cell_type": "code",
      "metadata": {
        "id": "Y4wbx2RJGE8i",
        "colab_type": "code",
        "colab": {}
      },
      "source": [
        ""
      ],
      "execution_count": 0,
      "outputs": []
    }
  ]
}