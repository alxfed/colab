{
  "nbformat": 4,
  "nbformat_minor": 0,
  "metadata": {
    "colab": {
      "name": "Discover_socrata_datasets_and_get_metadata.ipynb",
      "provenance": [],
      "toc_visible": true,
      "authorship_tag": "ABX9TyNVzh9fvt/KqdvGfYIs5W8n",
      "include_colab_link": true
    },
    "kernelspec": {
      "name": "python3",
      "display_name": "Python 3"
    }
  },
  "cells": [
    {
      "cell_type": "markdown",
      "metadata": {
        "id": "view-in-github",
        "colab_type": "text"
      },
      "source": [
        "<a href=\"https://colab.research.google.com/github/alxfed/colab/blob/master/Discover_socrata_datasets_and_get_metadata_sf.ipynb\" target=\"_parent\"><img src=\"https://colab.research.google.com/assets/colab-badge.svg\" alt=\"Open In Colab\"/></a>"
      ]
    },
    {
      "cell_type": "markdown",
      "metadata": {
        "id": "AEbWasQlncDq",
        "colab_type": "text"
      },
      "source": [
        "#Discover Socrata SF datasets and get their metadata"
      ]
    },
    {
      "cell_type": "code",
      "metadata": {
        "id": "q5IXmsP4nrQW",
        "colab_type": "code",
        "colab": {}
      },
      "source": [
        "from requests import Request, Session\n",
        "import pandas\n",
        "\n",
        "DISCOVERY_API_URL = 'http://api.us.socrata.com/api/catalog/v1'\n",
        "CHICAGO_RESOURCE_URI = 'data.sfgov.org'\n",
        "\n",
        "def all_sf_datasets():\n",
        "    session = Session()\n",
        "    # both, the domain and the context should be the same URI here\n",
        "    params = {'domains': CHICAGO_RESOURCE_URI, 'search_context': CHICAGO_RESOURCE_URI}\n",
        "    request = Request(method='GET', url=DISCOVERY_API_URL, params=params)\n",
        "    prepped = request.prepare()\n",
        "    response = session.send(prepped)\n",
        "    return response.json()"
      ],
      "execution_count": 0,
      "outputs": []
    },
    {
      "cell_type": "code",
      "metadata": {
        "colab_type": "code",
        "outputId": "c5cafe79-9498-47ee-862c-ab3d91eee742",
        "id": "vtx36nB0r61n",
        "colab": {
          "base_uri": "https://localhost:8080/",
          "height": 34
        }
      },
      "source": [
        "all_datasets = all_sf_datasets()['results']\n",
        "print(len(all_datasets))"
      ],
      "execution_count": 4,
      "outputs": [
        {
          "output_type": "stream",
          "text": [
            "100\n"
          ],
          "name": "stdout"
        }
      ]
    },
    {
      "cell_type": "code",
      "metadata": {
        "id": "TE_3uFLiqpky",
        "colab_type": "code",
        "colab": {}
      },
      "source": [
        "from datetime import datetime\n",
        "\n",
        "sections = ['resource', 'classification', 'metadata', 'permalink', 'link', 'preview_image_url', 'owner']\n",
        "\n",
        "catalog = pandas.DataFrame()\n",
        "for ind, dataset in enumerate(all_datasets):\n",
        "  row = dict()\n",
        "  complete_row = dataset['resource']\n",
        "  row['id']                 = complete_row['id']\n",
        "  row['name']               = complete_row['name']\n",
        "  row['updatedAt'] = datetime.strptime(complete_row['updatedAt'], '%Y-%m-%dT%H:%M:%S.000Z')\n",
        "  row['createdAt'] = datetime.strptime(complete_row['createdAt'], '%Y-%m-%dT%H:%M:%S.000Z')\n",
        "  row['description'] = complete_row['description'].replace('<div>', '') # some f...ing 'web' f...ing 'master' showed a tag into a text field\n",
        "  row['columns_name'] = ','.join(complete_row['columns_name'])\n",
        "  row['columns_field_name'] = ','.join(complete_row['columns_field_name'])\n",
        "  row['columns_datatype']   = ','.join(complete_row['columns_datatype'])\n",
        "  row['columns_description']= ','.join(complete_row['columns_description'])\n",
        "  catalog = catalog.append(row, ignore_index=True)"
      ],
      "execution_count": 0,
      "outputs": []
    },
    {
      "cell_type": "code",
      "metadata": {
        "id": "-Ysc_a447utt",
        "colab_type": "code",
        "outputId": "c7cea434-0715-47ad-c313-87c8ae70fb2d",
        "colab": {
          "base_uri": "https://localhost:8080/",
          "height": 383
        }
      },
      "source": [
        "columns_order = ['id', 'name', 'createdAt', 'updatedAt', 'description', 'columns_name', 'columns_field_name', 'columns_datatype', 'columns_description']\n",
        "catalog = catalog.reindex(columns=columns_order)\n",
        "\n",
        "catalog.head(n=3)"
      ],
      "execution_count": 0,
      "outputs": [
        {
          "output_type": "execute_result",
          "data": {
            "text/html": [
              "<div>\n",
              "<style scoped>\n",
              "    .dataframe tbody tr th:only-of-type {\n",
              "        vertical-align: middle;\n",
              "    }\n",
              "\n",
              "    .dataframe tbody tr th {\n",
              "        vertical-align: top;\n",
              "    }\n",
              "\n",
              "    .dataframe thead th {\n",
              "        text-align: right;\n",
              "    }\n",
              "</style>\n",
              "<table border=\"1\" class=\"dataframe\">\n",
              "  <thead>\n",
              "    <tr style=\"text-align: right;\">\n",
              "      <th></th>\n",
              "      <th>id</th>\n",
              "      <th>name</th>\n",
              "      <th>createdAt</th>\n",
              "      <th>updatedAt</th>\n",
              "      <th>description</th>\n",
              "      <th>columns_name</th>\n",
              "      <th>columns_field_name</th>\n",
              "      <th>columns_datatype</th>\n",
              "      <th>columns_description</th>\n",
              "    </tr>\n",
              "  </thead>\n",
              "  <tbody>\n",
              "    <tr>\n",
              "      <th>0</th>\n",
              "      <td>5cd6-ry5g</td>\n",
              "      <td>Crimes - 2001 to present - Dashboard</td>\n",
              "      <td>2015-04-04 02:23:43</td>\n",
              "      <td>2020-02-03 12:11:28</td>\n",
              "      <td>This dataset reflects reported incidents of cr...</td>\n",
              "      <td></td>\n",
              "      <td></td>\n",
              "      <td></td>\n",
              "      <td></td>\n",
              "    </tr>\n",
              "    <tr>\n",
              "      <th>1</th>\n",
              "      <td>xzkq-xp2w</td>\n",
              "      <td>Current Employee Names, Salaries, and Position...</td>\n",
              "      <td>2011-09-27 20:18:55</td>\n",
              "      <td>2020-01-31 23:21:48</td>\n",
              "      <td>This dataset is a listing of all current City ...</td>\n",
              "      <td>Name,Job Titles,Department,Full or Part-Time,S...</td>\n",
              "      <td>name,job_titles,department,full_or_part_time,s...</td>\n",
              "      <td>text,text,text,text,text,number,number,number</td>\n",
              "      <td>Name of employee,Title of employee at the time...</td>\n",
              "    </tr>\n",
              "    <tr>\n",
              "      <th>2</th>\n",
              "      <td>ydr8-5enu</td>\n",
              "      <td>Building Permits</td>\n",
              "      <td>2011-09-30 12:00:08</td>\n",
              "      <td>2020-02-03 13:04:32</td>\n",
              "      <td>INFORMATION ABOUT 7/12/2019 CHANGES TO THIS DA...</td>\n",
              "      <td>ID,PERMIT#,PERMIT_TYPE,REVIEW_TYPE,APPLICATION...</td>\n",
              "      <td>id,permit_,permit_type,review_type,application...</td>\n",
              "      <td>text,text,text,text,calendar_date,calendar_dat...</td>\n",
              "      <td>Unique database record identifier,Tracking num...</td>\n",
              "    </tr>\n",
              "  </tbody>\n",
              "</table>\n",
              "</div>"
            ],
            "text/plain": [
              "          id  ...                                columns_description\n",
              "0  5cd6-ry5g  ...                                                   \n",
              "1  xzkq-xp2w  ...  Name of employee,Title of employee at the time...\n",
              "2  ydr8-5enu  ...  Unique database record identifier,Tracking num...\n",
              "\n",
              "[3 rows x 9 columns]"
            ]
          },
          "metadata": {
            "tags": []
          },
          "execution_count": 4
        }
      ]
    },
    {
      "cell_type": "markdown",
      "metadata": {
        "id": "ru3OeXHovny_",
        "colab_type": "text"
      },
      "source": [
        "# Upload a *.sqlite file for the database and store the metadata there"
      ]
    },
    {
      "cell_type": "code",
      "metadata": {
        "id": "FOojbUKbv2f4",
        "colab_type": "code",
        "colab": {}
      },
      "source": [
        "import sqlalchemy as sqlalc\n",
        "\n",
        "DATABASE_URI = 'sqlite:///colab.sqlite' # this time I named the file colab.sqlite\n",
        "DATASETS_META = 'datasets_metadata' # this is the name of the table in the database\n",
        "\n",
        "conn = sqlalc.create_engine(DATABASE_URI)"
      ],
      "execution_count": 0,
      "outputs": []
    },
    {
      "cell_type": "code",
      "metadata": {
        "colab_type": "code",
        "id": "fMq_Xh-i_hSm",
        "colab": {}
      },
      "source": [
        "catalog.to_sql(name=DATASETS_META, con=conn, if_exists='replace', index=False)"
      ],
      "execution_count": 0,
      "outputs": []
    },
    {
      "cell_type": "markdown",
      "metadata": {
        "id": "C6q9R7vLEITH",
        "colab_type": "text"
      },
      "source": [
        "# Download the *.sqlite file and put it into the git-lfs repo\n",
        "You have to initiate git lfs in your repo before adding the file to it:\n",
        "<pre>\n",
        "git lfs install\n",
        "git lfs track \"*.sqlite\"\n",
        "git add .gitattributes\n",
        "</pre>"
      ]
    },
    {
      "cell_type": "code",
      "metadata": {
        "id": "zpEqe4a3G3lA",
        "colab_type": "code",
        "colab": {}
      },
      "source": [
        "from google.colab import files\n",
        "\n",
        "with open('dummy.txt', 'w') as f:\n",
        "  f.write('nothing')\n",
        "\n",
        "files.download('dummy.txt') # without a dummy file (and request for permission from the browser)\n",
        "files.download('colab.sqlite') # it doesn't download a binary"
      ],
      "execution_count": 0,
      "outputs": []
    }
  ]
}