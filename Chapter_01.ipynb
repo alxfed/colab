{
  "nbformat": 4,
  "nbformat_minor": 0,
  "metadata": {
    "colab": {
      "name": "Chapter_01.ipynb",
      "version": "0.3.2",
      "provenance": [],
      "collapsed_sections": [],
      "include_colab_link": true
    },
    "kernelspec": {
      "name": "python3",
      "display_name": "Python 3"
    }
  },
  "cells": [
    {
      "cell_type": "markdown",
      "metadata": {
        "id": "view-in-github",
        "colab_type": "text"
      },
      "source": [
        "<a href=\"https://colab.research.google.com/github/alxfed/colab/blob/master/Chapter_01.ipynb\" target=\"_parent\"><img src=\"https://colab.research.google.com/assets/colab-badge.svg\" alt=\"Open In Colab\"/></a>"
      ]
    },
    {
      "metadata": {
        "id": "o5NsH_gGZ3jT",
        "colab_type": "code",
        "colab": {}
      },
      "cell_type": "code",
      "source": [
        "import tensorflow as tf\n",
        "import numpy as np\n",
        "tfs = tf.InteractiveSession()"
      ],
      "execution_count": 0,
      "outputs": []
    },
    {
      "metadata": {
        "id": "-XBZmCiwajko",
        "colab_type": "code",
        "colab": {
          "base_uri": "https://localhost:8080/",
          "height": 34
        },
        "outputId": "b69e897c-b834-493c-f6b9-4b6903cc741e"
      },
      "cell_type": "code",
      "source": [
        "hello = tf.constant(\"Hello TensorFlow !!\")\n",
        "print(tfs.run(hello))"
      ],
      "execution_count": 3,
      "outputs": [
        {
          "output_type": "stream",
          "text": [
            "b'Hello TensorFlow !!'\n"
          ],
          "name": "stdout"
        }
      ]
    },
    {
      "metadata": {
        "id": "4Cix_We7awqu",
        "colab_type": "code",
        "colab": {
          "base_uri": "https://localhost:8080/",
          "height": 67
        },
        "outputId": "baf19cea-17b8-4182-b017-d2b22a929e25"
      },
      "cell_type": "code",
      "source": [
        "c1 = tf.constant(5, name='x')\n",
        "c2 = tf.constant(6.0, name='y')\n",
        "c3 = tf.constant(7.0, tf.float32, name='z')\n",
        "print('c1 (x): ', c1)\n",
        "print('c2 (y): ', c2)\n",
        "print('c3 (z): ', c3)"
      ],
      "execution_count": 6,
      "outputs": [
        {
          "output_type": "stream",
          "text": [
            "c1 (x):  Tensor(\"x_1:0\", shape=(), dtype=int32)\n",
            "c2 (y):  Tensor(\"y_1:0\", shape=(), dtype=float32)\n",
            "c3 (z):  Tensor(\"z_1:0\", shape=(), dtype=float32)\n"
          ],
          "name": "stdout"
        }
      ]
    },
    {
      "metadata": {
        "id": "jNJEM4b-cPnb",
        "colab_type": "code",
        "colab": {
          "base_uri": "https://localhost:8080/",
          "height": 34
        },
        "outputId": "0a9cbda2-4559-4b3b-d055-a92f9a6490dd"
      },
      "cell_type": "code",
      "source": [
        "print('run([c1,c2,c3]) : ', tfs.run([c1, c2, c3]))"
      ],
      "execution_count": 8,
      "outputs": [
        {
          "output_type": "stream",
          "text": [
            "run([c1,c2,c3]) :  [5, 6.0, 7.0]\n"
          ],
          "name": "stdout"
        }
      ]
    },
    {
      "metadata": {
        "id": "gHjBSC5fdAKE",
        "colab_type": "code",
        "colab": {
          "base_uri": "https://localhost:8080/",
          "height": 50
        },
        "outputId": "0f55a866-e6b9-4749-c686-c8dcc5050074"
      },
      "cell_type": "code",
      "source": [
        "op1 = tf.add(c2, c3)\n",
        "op2 = tf.multiply(c2, c3)\n",
        "print('op1 : ', op1)\n",
        "print('op2 : ', op2)"
      ],
      "execution_count": 9,
      "outputs": [
        {
          "output_type": "stream",
          "text": [
            "op1 :  Tensor(\"Add:0\", shape=(), dtype=float32)\n",
            "op2 :  Tensor(\"Mul:0\", shape=(), dtype=float32)\n"
          ],
          "name": "stdout"
        }
      ]
    }
  ]
}